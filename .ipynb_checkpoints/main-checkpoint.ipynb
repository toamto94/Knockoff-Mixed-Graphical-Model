{
 "cells": [
  {
   "cell_type": "code",
   "execution_count": 1,
   "metadata": {},
   "outputs": [],
   "source": [
    "import numpy as np\n",
    "import pandas as pd\n",
    "import matplotlib.pyplot as plt\n",
    "import Isingutils\n",
    "from Knockoff_Mixed_Graphical_Model import Knockoff_Mixed_Graphical_Model, Ising_Normal_Knockoffs"
   ]
  },
  {
   "cell_type": "markdown",
   "metadata": {},
   "source": [
    "Load data"
   ]
  },
  {
   "cell_type": "code",
   "execution_count": 2,
   "metadata": {},
   "outputs": [],
   "source": [
    "Z = np.array(pd.read_csv(\"data\\\\Z.csv\")) #discrete subvector\n",
    "Y = np.array(pd.read_csv(\"data\\\\Y.csv\")) #continous subvector"
   ]
  },
  {
   "cell_type": "markdown",
   "metadata": {},
   "source": [
    "For the sake of visualization, sample knockoffs for the conditional gaussian"
   ]
  },
  {
   "cell_type": "markdown",
   "metadata": {},
   "source": [
    "Estimate coupling and joint coupling matrices"
   ]
  },
  {
   "cell_type": "code",
   "execution_count": 3,
   "metadata": {},
   "outputs": [],
   "source": [
    "coupling = np.cov(Z.T)\n",
    "joint_coupling = Isingutils.Ising_Data.joint_coupling(Z, Y)"
   ]
  },
  {
   "cell_type": "markdown",
   "metadata": {},
   "source": [
    "Create instance of sampler"
   ]
  },
  {
   "cell_type": "code",
   "execution_count": 4,
   "metadata": {},
   "outputs": [],
   "source": [
    "conditional_gaussian_knockoff_sampler = Ising_Normal_Knockoffs(Z, Y, coupling, joint_coupling)"
   ]
  },
  {
   "cell_type": "markdown",
   "metadata": {},
   "source": [
    "Sample Knockoffs"
   ]
  },
  {
   "cell_type": "code",
   "execution_count": 5,
   "metadata": {},
   "outputs": [],
   "source": [
    "Z_tilde, Y_tilde = conditional_gaussian_knockoff_sampler.sample_knockoffs(k=2)"
   ]
  },
  {
   "cell_type": "markdown",
   "metadata": {},
   "source": [
    "Visualize results"
   ]
  },
  {
   "cell_type": "code",
   "execution_count": 6,
   "metadata": {},
   "outputs": [
    {
     "data": {
      "image/png": "[encoded data removed]",
      "text/plain": [
       "<Figure size 1080x360 with 4 Axes>"
      ]
     },
     "metadata": {
      "needs_background": "light"
     },
     "output_type": "display_data"
    }
   ],
   "source": [
    "fig, ax = plt.subplots(1, 4, figsize=(15, 5))\n",
    "ax[0].imshow(Z)\n",
    "ax[1].imshow(Z_tilde)\n",
    "ax[2].imshow(Y)\n",
    "ax[3].imshow(Y_tilde)\n",
    "plt.show()"
   ]
  },
  {
   "cell_type": "markdown",
   "metadata": {},
   "source": [
    "Create instance of Knockoff Mixed Graphical Model"
   ]
  },
  {
   "cell_type": "code",
   "execution_count": 7,
   "metadata": {},
   "outputs": [],
   "source": [
    "KMGM = Knockoff_Mixed_Graphical_Model()"
   ]
  },
  {
   "cell_type": "code",
   "execution_count": 8,
   "metadata": {},
   "outputs": [],
   "source": [
    "#np.apply_along_axis(arr=Z, axis=1, func1d=np.unique)"
   ]
  },
  {
   "cell_type": "markdown",
   "metadata": {},
   "source": [
    "Training with Lasso-coefficient-distance (lcd) as feature statistics function"
   ]
  },
  {
   "cell_type": "code",
   "execution_count": 9,
   "metadata": {},
   "outputs": [],
   "source": [
    "KMGM.fit(Z, Y, k=2, feature_statistics_fnc = \"lcd\")"
   ]
  },
  {
   "cell_type": "markdown",
   "metadata": {},
   "source": [
    "Merge neighborhoods"
   ]
  },
  {
   "cell_type": "code",
   "execution_count": 20,
   "metadata": {},
   "outputs": [],
   "source": [
    "KMGM.merge_neighborhoods(th = 0.01)"
   ]
  },
  {
   "cell_type": "code",
   "execution_count": 22,
   "metadata": {},
   "outputs": [
    {
     "data": {
      "text/plain": [
       "[array([ 3, 16]),\n",
       " array([39]),\n",
       " array([16, 31]),\n",
       " array([ 0, 19, 38]),\n",
       " array([39]),\n",
       " array([], dtype=int32),\n",
       " array([], dtype=int32),\n",
       " array([ 8, 21, 36]),\n",
       " array([ 7, 36]),\n",
       " array([19, 24]),\n",
       " array([35]),\n",
       " array([15, 30]),\n",
       " array([32]),\n",
       " array([38]),\n",
       " array([17, 19]),\n",
       " array([11, 26]),\n",
       " array([0, 2]),\n",
       " array([14, 18, 21, 33]),\n",
       " array([17, 21]),\n",
       " array([ 3,  9, 14, 28]),\n",
       " array([33]),\n",
       " array([ 7, 17, 18]),\n",
       " array([], dtype=int32),\n",
       " array([], dtype=int32),\n",
       " array([ 9, 26]),\n",
       " array([], dtype=int32),\n",
       " array([15, 24]),\n",
       " array([], dtype=int32),\n",
       " array([19]),\n",
       " array([], dtype=int32),\n",
       " array([11]),\n",
       " array([2]),\n",
       " array([12]),\n",
       " array([17, 20]),\n",
       " array([], dtype=int32),\n",
       " array([10]),\n",
       " array([7, 8]),\n",
       " array([38]),\n",
       " array([ 3, 13, 37]),\n",
       " array([1, 4]),\n",
       " array([], dtype=int32),\n",
       " array([], dtype=int32),\n",
       " array([], dtype=int32),\n",
       " array([], dtype=int32),\n",
       " array([], dtype=int32),\n",
       " array([], dtype=int32),\n",
       " array([], dtype=int32),\n",
       " array([], dtype=int32),\n",
       " array([], dtype=int32),\n",
       " array([], dtype=int32),\n",
       " array([], dtype=int32),\n",
       " array([], dtype=int32),\n",
       " array([], dtype=int32),\n",
       " array([], dtype=int32),\n",
       " array([], dtype=int32),\n",
       " array([], dtype=int32),\n",
       " array([], dtype=int32),\n",
       " array([], dtype=int32),\n",
       " array([60]),\n",
       " array([], dtype=int32),\n",
       " array([58]),\n",
       " array([], dtype=int32),\n",
       " array([], dtype=int32),\n",
       " array([], dtype=int32),\n",
       " array([], dtype=int32)]"
      ]
     },
     "execution_count": 22,
     "metadata": {},
     "output_type": "execute_result"
    }
   ],
   "source": [
    "KMGM.get_vertices()"
   ]
  },
  {
   "cell_type": "code",
   "execution_count": null,
   "metadata": {},
   "outputs": [],
   "source": []
  }
 ],
 "metadata": {
  "kernelspec": {
   "display_name": "Python 3",
   "language": "python",
   "name": "python3"
  },
  "language_info": {
   "codemirror_mode": {
    "name": "ipython",
    "version": 3
   },
   "file_extension": ".py",
   "mimetype": "text/x-python",
   "name": "python",
   "nbconvert_exporter": "python",
   "pygments_lexer": "ipython3",
   "version": "3.7.6"
  }
 },
 "nbformat": 4,
 "nbformat_minor": 4
}
