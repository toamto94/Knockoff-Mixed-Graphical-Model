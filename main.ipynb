{
 "cells": [
  {
   "cell_type": "markdown",
   "metadata": {},
   "source": [
    "# Knockoff-Mixed-Graphical-Model\n",
    "This is an algorithm for training a graphical model for associations between variables, some of which are qualitative and some quantitative.\n",
    "The algorithm uses the model-X framework promoted by Candès et al. [https://arxiv.org/abs/1610.02351] which controls the proportion of falsely discovered edges,\n",
    "\n",
    "$$\\mathbb{E} \\{ \\frac{ | j \\in \\hat{S} \\cap H_0 |}{ | \\hat{S} | }\\} \\leq q $$"
   ]
  },
  {
   "cell_type": "markdown",
   "metadata": {},
   "source": [
    "## Installation"
   ]
  },
  {
   "cell_type": "raw",
   "metadata": {},
   "source": [
    "pip install git+https://github.com/toamto94/Knockoff-Mixed-Graphical-Model.git\n",
    "\n"
   ]
  },
  {
   "cell_type": "markdown",
   "metadata": {},
   "source": [
    "## Example"
   ]
  },
  {
   "cell_type": "markdown",
   "metadata": {},
   "source": [
    "#### Import libraries"
   ]
  },
  {
   "cell_type": "code",
   "execution_count": 36,
   "metadata": {},
   "outputs": [],
   "source": [
    "import os\n",
    "import numpy as np\n",
    "import pandas as pd\n",
    "import matplotlib.pyplot as plt\n",
    "from graphviz import Graph\n",
    "import Isingutils\n",
    "from Knockoff_Mixed_Graphical_Model import Knockoff_Mixed_Graphical_Model, Ising_Normal_Knockoffs"
   ]
  },
  {
   "cell_type": "code",
   "execution_count": 37,
   "metadata": {},
   "outputs": [],
   "source": [
    "os.environ[\"PATH\"] += os.pathsep + \"C:/Program Files (x86)/Graphviz2.38/bin/\""
   ]
  },
  {
   "cell_type": "markdown",
   "metadata": {},
   "source": [
    "#### Load data"
   ]
  },
  {
   "cell_type": "code",
   "execution_count": 2,
   "metadata": {},
   "outputs": [],
   "source": [
    "Z = np.array(pd.read_csv(\"data\\\\Z.csv\")) #discrete subvector\n",
    "Y = np.array(pd.read_csv(\"data\\\\Y.csv\")) #continous subvector"
   ]
  },
  {
   "cell_type": "markdown",
   "metadata": {},
   "source": [
    "### For the sake of visualization, sample knockoffs for the conditional gaussian"
   ]
  },
  {
   "cell_type": "markdown",
   "metadata": {},
   "source": [
    "#### Estimate coupling and joint coupling matrices"
   ]
  },
  {
   "cell_type": "code",
   "execution_count": 3,
   "metadata": {},
   "outputs": [],
   "source": [
    "coupling = np.cov(Z.T)\n",
    "joint_coupling = Isingutils.Ising_Data.joint_coupling(Z, Y)"
   ]
  },
  {
   "cell_type": "markdown",
   "metadata": {},
   "source": [
    "#### Create instance of sampler"
   ]
  },
  {
   "cell_type": "code",
   "execution_count": 4,
   "metadata": {},
   "outputs": [],
   "source": [
    "conditional_gaussian_knockoff_sampler = Ising_Normal_Knockoffs(Z, Y, coupling, joint_coupling)"
   ]
  },
  {
   "cell_type": "markdown",
   "metadata": {},
   "source": [
    "#### Sample Knockoffs"
   ]
  },
  {
   "cell_type": "code",
   "execution_count": 5,
   "metadata": {},
   "outputs": [],
   "source": [
    "Z_tilde, Y_tilde = conditional_gaussian_knockoff_sampler.sample_knockoffs(k=2)"
   ]
  },
  {
   "cell_type": "markdown",
   "metadata": {},
   "source": [
    "#### Visualize results"
   ]
  },
  {
   "cell_type": "code",
   "execution_count": 6,
   "metadata": {},
   "outputs": [
    {
     "data": {
      "image/png": "[encoded data removed]",
      "text/plain": [
       "<Figure size 1080x360 with 4 Axes>"
      ]
     },
     "metadata": {
      "needs_background": "light"
     },
     "output_type": "display_data"
    }
   ],
   "source": [
    "fig, ax = plt.subplots(1, 4, figsize=(15, 5))\n",
    "ax[0].imshow(Z)\n",
    "ax[1].imshow(Z_tilde)\n",
    "ax[2].imshow(Y)\n",
    "ax[3].imshow(Y_tilde)\n",
    "ax[0].set_xlabel(\"original Ising features\")\n",
    "ax[1].set_xlabel(\"knockoff Ising features\")\n",
    "ax[2].set_xlabel(\"original continous features\")\n",
    "ax[3].set_xlabel(\"knockoff continous features\")\n",
    "plt.show()"
   ]
  },
  {
   "cell_type": "markdown",
   "metadata": {},
   "source": [
    "### Now, train Knockoff-Mixed-Graphical-Model"
   ]
  },
  {
   "cell_type": "markdown",
   "metadata": {},
   "source": [
    "#### Create instance of Knockoff Mixed Graphical Model"
   ]
  },
  {
   "cell_type": "code",
   "execution_count": 7,
   "metadata": {},
   "outputs": [],
   "source": [
    "KMGM = Knockoff_Mixed_Graphical_Model()"
   ]
  },
  {
   "cell_type": "markdown",
   "metadata": {},
   "source": [
    "#### Training with Lasso-coefficient-distance (lcd), $W_i = |\\hat{b}_i(\\lambda)| - |\\hat{b}_{i + n}(\\lambda)|$ as feature statistics function"
   ]
  },
  {
   "cell_type": "code",
   "execution_count": 8,
   "metadata": {},
   "outputs": [],
   "source": [
    "KMGM.fit(Z, Y, k=2, feature_statistics_fnc = \"lcd\")"
   ]
  },
  {
   "cell_type": "markdown",
   "metadata": {},
   "source": [
    "#### Merge neighborhoods"
   ]
  },
  {
   "cell_type": "code",
   "execution_count": 13,
   "metadata": {},
   "outputs": [],
   "source": [
    "KMGM.merge_neighborhoods(th = 0.01)"
   ]
  },
  {
   "cell_type": "markdown",
   "metadata": {},
   "source": [
    "#### Optional: Visualize Graph"
   ]
  },
  {
   "cell_type": "code",
   "execution_count": 77,
   "metadata": {},
   "outputs": [
    {
     "data": {
      "text/plain": [
       "'kmgm.png'"
      ]
     },
     "execution_count": 77,
     "metadata": {},
     "output_type": "execute_result"
    }
   ],
   "source": [
    "G = Graph(format=\"png\")\n",
    "z_names = np.array(['z' + str(i + 1) for i in range(Z.shape[1])])\n",
    "y_names = np.array(['y' + str(i + 1) for i in  range(Y.shape[1])])\n",
    "names = np.hstack((z_names, y_names))\n",
    "vertices = KMGM.get_vertices()\n",
    "\n",
    "\n",
    "for i in range(Z.shape[1]):\n",
    "    G.node(z_names[i], z_names[i])\n",
    "for i in range(Y.shape[1]):\n",
    "    G.node(y_names[i], y_names[i])\n",
    "    \n",
    "for i, name in enumerate(names):\n",
    "    for node in vertices[i]:\n",
    "        G.edge(name, names[node])\n",
    "        \n",
    "G.render(\"kmgm\")"
   ]
  },
  {
   "cell_type": "markdown",
   "metadata": {},
   "source": [
    "<img src='kmgm.png'>Knockoff Mixed Graphical Model</img>"
   ]
  }
 ],
 "metadata": {
  "kernelspec": {
   "display_name": "Python 3",
   "language": "python",
   "name": "python3"
  },
  "language_info": {
   "codemirror_mode": {
    "name": "ipython",
    "version": 3
   },
   "file_extension": ".py",
   "mimetype": "text/x-python",
   "name": "python",
   "nbconvert_exporter": "python",
   "pygments_lexer": "ipython3",
   "version": "3.7.6"
  }
 },
 "nbformat": 4,
 "nbformat_minor": 4
}
